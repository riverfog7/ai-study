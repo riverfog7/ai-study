{
 "cells": [
  {
   "cell_type": "code",
   "id": "initial_id",
   "metadata": {
    "collapsed": true
   },
   "source": [
    "import os\n",
    "import torch\n",
    "import numpy as np\n",
    "from tqdm import tqdm\n",
    "import time\n",
    "from helper import CustomDiffusion, DiffusionResult\n",
    "import plotly.express as px\n",
    "from IPython import display\n",
    "\n",
    "HF_HOME = '../.hf_home'\n",
    "RANDOM_SEED = 42\n",
    "SLIDER_SPEED=50\n",
    "LINEAR_INTERPOLATION_STEPS = 50\n",
    "FIRST_PROMPT=\"A dog\"\n",
    "SECOND_PROMPT=\"A cat\"\n",
    "\n",
    "torch.manual_seed(RANDOM_SEED)\n",
    "np.random.seed(RANDOM_SEED)\n",
    "os.environ['HF_HOME'] = HF_HOME\n",
    "device = torch.device(\"mps\" if torch.backends.mps.is_available() else \"cuda\" if torch.cuda.is_available() else \"cpu\")\n",
    "print(f\"Using device: {device}\")\n",
    "\n",
    "diff = CustomDiffusion(device=device)"
   ],
   "outputs": [],
   "execution_count": null
  },
  {
   "metadata": {},
   "cell_type": "code",
   "source": [
    "def visualize_diffusion(current_step, total_steps, image):\n",
    "    display.clear_output(wait=True)\n",
    "    print(f\"Step {current_step+1}/{total_steps}\")\n",
    "    display.display(image)"
   ],
   "id": "73399162943fd409",
   "outputs": [],
   "execution_count": null
  },
  {
   "metadata": {},
   "cell_type": "code",
   "source": [
    "first_result = diff.generate(\n",
    "    FIRST_PROMPT,\n",
    "    print_steps=False,\n",
    "    decode_every_step=True,\n",
    "    seed=RANDOM_SEED,\n",
    "    callback_fn=visualize_diffusion,\n",
    "    callback_args=[\"current_step\", \"total_steps\", \"image\"]\n",
    ")"
   ],
   "id": "4e16723805a1e93",
   "outputs": [],
   "execution_count": null
  },
  {
   "metadata": {},
   "cell_type": "code",
   "source": [
    "fig = px.imshow(np.array(first_result.image_list), animation_frame=0, width=800, height=600)\n",
    "fig.update_layout(\n",
    "    title=\"Diffusion Process\",\n",
    "    updatemenus=[{\n",
    "        \"type\": \"buttons\",\n",
    "        \"buttons\": [{\n",
    "            \"label\": \"Play\",\n",
    "            \"method\": \"animate\",\n",
    "            \"args\": [None, {\"frame\": {\"duration\": SLIDER_SPEED, \"redraw\": True}, \"fromcurrent\": True}]\n",
    "        }, {\n",
    "            \"label\": \"Pause\",\n",
    "            \"method\": \"animate\",\n",
    "            \"args\": [[None], {\"frame\": {\"duration\": 0, \"redraw\": False}, \"mode\": \"immediate\", \"transition\": {\"duration\": 0}}]\n",
    "        }]\n",
    "    }]\n",
    ")\n",
    "fig.show()"
   ],
   "id": "db5702f8d089ce1c",
   "outputs": [],
   "execution_count": null
  },
  {
   "metadata": {},
   "cell_type": "code",
   "source": [
    "second_result = diff.generate(\n",
    "    SECOND_PROMPT,\n",
    "    print_steps=False,\n",
    "    decode_every_step=True,\n",
    "    seed=RANDOM_SEED,\n",
    "    callback_fn=visualize_diffusion,\n",
    "    callback_args=[\"current_step\", \"total_steps\", \"image\"]\n",
    ")"
   ],
   "id": "645ac1c33fcb417b",
   "outputs": [],
   "execution_count": null
  },
  {
   "metadata": {},
   "cell_type": "code",
   "source": [
    "fig = px.imshow(np.array(second_result.image_list), animation_frame=0, width=800, height=600)\n",
    "fig.update_layout(\n",
    "    title=\"Diffusion Process\",\n",
    "    updatemenus=[{\n",
    "        \"type\": \"buttons\",\n",
    "        \"buttons\": [{\n",
    "            \"label\": \"Play\",\n",
    "            \"method\": \"animate\",\n",
    "            \"args\": [None, {\"frame\": {\"duration\": SLIDER_SPEED, \"redraw\": True}, \"fromcurrent\": True}]\n",
    "        }, {\n",
    "            \"label\": \"Pause\",\n",
    "            \"method\": \"animate\",\n",
    "            \"args\": [[None], {\"frame\": {\"duration\": 0, \"redraw\": False}, \"mode\": \"immediate\", \"transition\": {\"duration\": 0}}]\n",
    "        }]\n",
    "    }]\n",
    ")\n",
    "fig.show()"
   ],
   "id": "7a1cb1e07c3b89e5",
   "outputs": [],
   "execution_count": null
  },
  {
   "metadata": {},
   "cell_type": "code",
   "source": [
    "first_embedding = diff.encode_text(FIRST_PROMPT)\n",
    "second_embedding = diff.encode_text(SECOND_PROMPT)\n",
    "\n",
    "interpolated_embeddings = []\n",
    "for alpha in np.linspace(0, 1, LINEAR_INTERPOLATION_STEPS):\n",
    "    interpolated_embedding = (1 - alpha) * first_embedding + alpha * second_embedding\n",
    "    interpolated_embeddings.append(interpolated_embedding)"
   ],
   "id": "e4d6be67b3b5b8c6",
   "outputs": [],
   "execution_count": null
  },
  {
   "metadata": {},
   "cell_type": "code",
   "source": [
    "interpolated_results = []\n",
    "\n",
    "for embedding in tqdm(interpolated_embeddings):\n",
    "    result = diff.generate(\n",
    "        embedding,\n",
    "        print_steps=True,\n",
    "        decode_every_step=True,\n",
    "        seed=RANDOM_SEED\n",
    "    )\n",
    "    interpolated_results.append(result)"
   ],
   "id": "db7887f4c125ab6e",
   "outputs": [],
   "execution_count": null
  }
 ],
 "metadata": {
  "kernelspec": {
   "display_name": "Python 3",
   "language": "python",
   "name": "python3"
  },
  "language_info": {
   "codemirror_mode": {
    "name": "ipython",
    "version": 2
   },
   "file_extension": ".py",
   "mimetype": "text/x-python",
   "name": "python",
   "nbconvert_exporter": "python",
   "pygments_lexer": "ipython2",
   "version": "2.7.6"
  }
 },
 "nbformat": 4,
 "nbformat_minor": 5
}
