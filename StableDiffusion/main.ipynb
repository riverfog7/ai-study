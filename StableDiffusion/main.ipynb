{
 "cells": [
  {
   "metadata": {},
   "cell_type": "markdown",
   "source": "### Imports",
   "id": "13804be31059cf3c"
  },
  {
   "metadata": {},
   "cell_type": "code",
   "source": [
    "from interpolations import *\n",
    "from helper import *\n",
    "from pathlib import Path\n",
    "from IPython import display\n",
    "import json\n",
    "\n",
    "HF_HOME = '../.hf_home'\n",
    "RANDOM_SEED = 472\n",
    "LINEAR_INTERPOLATION_STEPS = 100\n",
    "SAVE_PREFIX = Path(\"./results\")\n",
    "\n",
    "torch.manual_seed(RANDOM_SEED)\n",
    "np.random.seed(RANDOM_SEED)\n",
    "os.environ['HF_HOME'] = HF_HOME\n",
    "device = torch.device(\"mps\" if torch.backends.mps.is_available() else \"cuda\" if torch.cuda.is_available() else \"cpu\")\n",
    "print(f\"Using device: {device}\")\n",
    "\n",
    "MODEL_ID = \"stabilityai/stable-diffusion-2-1\"\n",
    "diff = CustomDiffusion(MODEL_ID, device=device, width=768, height=768)"
   ],
   "id": "d1587574102a7301",
   "outputs": [],
   "execution_count": null
  },
  {
   "metadata": {},
   "cell_type": "markdown",
   "source": "### Helper functions",
   "id": "54024410a726667a"
  },
  {
   "metadata": {},
   "cell_type": "code",
   "source": [
    "def run_inference(embeddings):\n",
    "    results = []\n",
    "    for emb in tqdm(embeddings):\n",
    "        result = diff.generate(\n",
    "            emb,\n",
    "            NEGATIVE_PROMPT,\n",
    "            print_steps=False,\n",
    "            decode_every_step=False,\n",
    "            seed=RANDOM_SEED\n",
    "        )\n",
    "        results.append(result)\n",
    "    return results"
   ],
   "id": "1c5c6963f69866eb",
   "outputs": [],
   "execution_count": null
  },
  {
   "metadata": {},
   "cell_type": "markdown",
   "source": "### Load test data",
   "id": "d28afddb222e783c"
  },
  {
   "metadata": {},
   "cell_type": "code",
   "source": [
    "with open(\"./experiments.json\", 'r') as f:\n",
    "    data = json.loads(f.read())\n",
    "experiments = data['experiments']\n",
    "NEGATIVE_PROMPT = data['common_negative_base']"
   ],
   "id": "2197b343181cf94f",
   "outputs": [],
   "execution_count": null
  },
  {
   "metadata": {},
   "cell_type": "markdown",
   "source": "### Run inference for whole data",
   "id": "ab60cc02f12137a7"
  },
  {
   "metadata": {
    "jupyter": {
     "is_executing": true
    }
   },
   "cell_type": "code",
   "source": [
    "EXEC_INFERENCE = not os.path.exists(SAVE_PREFIX)\n",
    "\n",
    "if EXEC_INFERENCE:\n",
    "    SAVE_PREFIX.mkdir(parents=True)\n",
    "\n",
    "    for experiment in experiments:\n",
    "        id = experiment['id']\n",
    "        name = experiment['name']\n",
    "        first_prompt = experiment['prompt_a']['positive']\n",
    "        second_prompt = experiment['prompt_b']['positive']\n",
    "\n",
    "        CURRENT_SAVE_DIR = SAVE_PREFIX / name\n",
    "        if not os.path.exists(CURRENT_SAVE_DIR):\n",
    "            CURRENT_SAVE_DIR.mkdir(parents=True)\n",
    "\n",
    "        first_result = diff.generate(\n",
    "            first_prompt,\n",
    "            NEGATIVE_PROMPT,\n",
    "            print_steps=False,\n",
    "            decode_every_step=True,\n",
    "            seed=RANDOM_SEED,\n",
    "        )\n",
    "        first_result.image.save(CURRENT_SAVE_DIR / \"first_image.png\")\n",
    "        visualize_diffusion_progress(first_result, save_path=CURRENT_SAVE_DIR / \"first_diffusion_progress.html\")\n",
    "        display.clear_output(wait=False)\n",
    "\n",
    "        second_result = diff.generate(\n",
    "            second_prompt,\n",
    "            NEGATIVE_PROMPT,\n",
    "            print_steps=False,\n",
    "            decode_every_step=True,\n",
    "            seed=RANDOM_SEED,\n",
    "        )\n",
    "        second_result.image.save(CURRENT_SAVE_DIR / \"second_image.png\")\n",
    "        visualize_diffusion_progress(second_result, save_path=CURRENT_SAVE_DIR / \"second_diffusion_progress.html\")\n",
    "        display.clear_output(wait=False)\n",
    "\n",
    "\n",
    "        start_embedding = diff.encode_text(first_prompt)\n",
    "        end_embedding = diff.encode_text(second_prompt)\n",
    "\n",
    "        interpolated_embeddings = interpolate(start_embedding, end_embedding, LINEAR_INTERPOLATION_STEPS)\n",
    "        interpolation_results = run_inference(interpolated_embeddings)\n",
    "        visualize_interpolation(interpolation_results, save_path=CURRENT_SAVE_DIR / \"linear_interpolation.html\",\n",
    "                                show=False)\n",
    "        display.clear_output(wait=False)\n",
    "\n",
    "\n",
    "        interpolated_embeddings_slerp = interpolate_slerp(start_embedding, end_embedding, LINEAR_INTERPOLATION_STEPS)\n",
    "        interpolation_results_slerp = run_inference(interpolated_embeddings_slerp)\n",
    "        visualize_interpolation(interpolation_results_slerp, save_path=CURRENT_SAVE_DIR / \"slerp_interpolation.html\",\n",
    "                                show=False)\n",
    "        display.clear_output(wait=False)\n",
    "\n",
    "\n",
    "        interpolated_embeddings_cog = interpolate_cog(start_embedding, end_embedding, LINEAR_INTERPOLATION_STEPS)\n",
    "        interpolation_results_cog = run_inference(interpolated_embeddings_cog)\n",
    "        visualize_interpolation(interpolation_results_cog, save_path=CURRENT_SAVE_DIR / \"cog_interpolation.html\",\n",
    "                                show=False)\n",
    "        display.clear_output(wait=False)\n",
    "\n",
    "\n",
    "        interpolated_embeddings_noisediffusion = interpolate_noisediffusion(start_embedding, end_embedding,\n",
    "                                                                            LINEAR_INTERPOLATION_STEPS,\n",
    "                                                                            noise_level=0.1)\n",
    "        interpolation_results_noisediffusion = run_inference(interpolated_embeddings_noisediffusion)\n",
    "        visualize_interpolation(interpolation_results_noisediffusion,\n",
    "                                save_path=CURRENT_SAVE_DIR / \"noisediffusion_interpolation.html\",\n",
    "                                show=False)\n",
    "        display.clear_output(wait=False)"
   ],
   "id": "cd91ede9063e0602",
   "outputs": [],
   "execution_count": null
  },
  {
   "metadata": {},
   "cell_type": "markdown",
   "source": "### Single data inference",
   "id": "100d7c2cd6f1600"
  },
  {
   "metadata": {},
   "cell_type": "markdown",
   "source": "#### Diffusion Process Visualization",
   "id": "d36356308e2e587b"
  },
  {
   "metadata": {},
   "cell_type": "code",
   "source": [
    "FIRST_PROMPT = experiments[0]['prompt_a']['positive']\n",
    "FIRST_NEGATIVE_PROMPT = NEGATIVE_PROMPT\n",
    "SECOND_PROMPT = experiments[0]['prompt_b']['positive']\n",
    "SECOND_NEGATIVE_PROMPT = NEGATIVE_PROMPT"
   ],
   "id": "f26154af0b0ab0f",
   "outputs": [],
   "execution_count": null
  },
  {
   "metadata": {},
   "cell_type": "code",
   "source": [
    "first_result = diff.generate(\n",
    "    FIRST_PROMPT,\n",
    "    FIRST_NEGATIVE_PROMPT,\n",
    "    print_steps=False,\n",
    "    decode_every_step=True,\n",
    "    seed=RANDOM_SEED,\n",
    "    callback_fn=visualize_diffusion,\n",
    "    callback_args=[\"current_step\", \"total_steps\", \"image\"]\n",
    ")"
   ],
   "id": "26b8e173d043ccdd",
   "outputs": [],
   "execution_count": null
  },
  {
   "metadata": {},
   "cell_type": "code",
   "source": "visualize_diffusion_progress(first_result)",
   "id": "4a91f6720003cc2b",
   "outputs": [],
   "execution_count": null
  },
  {
   "metadata": {},
   "cell_type": "code",
   "source": [
    "second_result = diff.generate(\n",
    "    SECOND_PROMPT,\n",
    "    SECOND_NEGATIVE_PROMPT,\n",
    "    print_steps=False,\n",
    "    decode_every_step=True,\n",
    "    seed=RANDOM_SEED,\n",
    "    callback_fn=visualize_diffusion,\n",
    "    callback_args=[\"current_step\", \"total_steps\", \"image\"]\n",
    ")"
   ],
   "id": "623942bf63bcf82a",
   "outputs": [],
   "execution_count": null
  },
  {
   "metadata": {},
   "cell_type": "code",
   "source": "visualize_diffusion_progress(second_result)",
   "id": "27c7998e9bda6334",
   "outputs": [],
   "execution_count": null
  },
  {
   "metadata": {},
   "cell_type": "markdown",
   "source": "#### Embedding Interpolation using various methods",
   "id": "b5cf6f1d730330b1"
  },
  {
   "metadata": {},
   "cell_type": "code",
   "source": [
    "start_embedding = diff.encode_text(FIRST_PROMPT)\n",
    "end_embedding = diff.encode_text(SECOND_PROMPT)"
   ],
   "id": "e0e106655d927bad",
   "outputs": [],
   "execution_count": null
  },
  {
   "metadata": {},
   "cell_type": "code",
   "source": [
    "interpolated_embeddings = interpolate(start_embedding, end_embedding, 200)\n",
    "interpolation_results = run_inference(interpolated_embeddings)\n",
    "visualize_interpolation(interpolation_results)"
   ],
   "id": "baf7c86983963774",
   "outputs": [],
   "execution_count": null
  },
  {
   "metadata": {},
   "cell_type": "code",
   "source": [
    "interpolated_embeddings_slerp = interpolate_slerp(start_embedding, end_embedding, 200)\n",
    "interpolation_results_slerp = run_inference(interpolated_embeddings_slerp)\n",
    "visualize_interpolation(interpolation_results_slerp)"
   ],
   "id": "9836edd1b29f7cef",
   "outputs": [],
   "execution_count": null
  },
  {
   "metadata": {},
   "cell_type": "code",
   "source": [
    "interpolated_embeddings_cog = interpolate_cog(start_embedding, end_embedding, 200)\n",
    "interpolation_results_cog = run_inference(interpolated_embeddings_cog)\n",
    "visualize_interpolation(interpolation_results_cog)"
   ],
   "id": "a9295c6e738011e8",
   "outputs": [],
   "execution_count": null
  },
  {
   "metadata": {},
   "cell_type": "code",
   "source": [
    "interpolated_embeddings_noisediffusion = interpolate_noisediffusion(diff.encode_text(FIRST_PROMPT),\n",
    "                                                                    diff.encode_text(SECOND_PROMPT), 200,\n",
    "                                                                    noise_level=0.1)\n",
    "interpolation_results_noisediffusion = run_inference(interpolated_embeddings_noisediffusion)\n",
    "visualize_interpolation(interpolation_results_noisediffusion)"
   ],
   "id": "e0b705f895f66f87",
   "outputs": [],
   "execution_count": null
  }
 ],
 "metadata": {
  "kernelspec": {
   "display_name": "Python 3",
   "language": "python",
   "name": "python3"
  },
  "language_info": {
   "codemirror_mode": {
    "name": "ipython",
    "version": 2
   },
   "file_extension": ".py",
   "mimetype": "text/x-python",
   "name": "python",
   "nbconvert_exporter": "python",
   "pygments_lexer": "ipython2",
   "version": "2.7.6"
  }
 },
 "nbformat": 4,
 "nbformat_minor": 5
}
