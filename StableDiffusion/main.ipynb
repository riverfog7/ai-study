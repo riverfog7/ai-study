{
 "cells": [
  {
   "cell_type": "code",
   "id": "initial_id",
   "metadata": {
    "collapsed": true,
    "ExecuteTime": {
     "end_time": "2025-10-11T10:41:57.306863Z",
     "start_time": "2025-10-11T10:41:57.303786Z"
    }
   },
   "source": [
    "import os\n",
    "import torch\n",
    "import numpy as np\n",
    "from diffusers import StableDiffusionPipeline, AutoencoderKL, UNet2DConditionModel\n",
    "from diffusers.schedulers import PNDMScheduler\n",
    "from transformers import CLIPTokenizer, CLIPTextModel\n",
    "from typing import List, Tuple, Optional\n",
    "\n",
    "HF_HOME = '../.hf_home'\n",
    "os.environ['HF_HOME'] = HF_HOME\n",
    "\n",
    "torch.manual_seed(42)\n",
    "np.random.seed(42)\n",
    "\n",
    "device = \"mps\" if torch.backends.mps.is_available() else \"cuda\" if torch.cuda.is_available() else \"cpu\"\n",
    "print(f\"Using device: {device}\")"
   ],
   "execution_count": 123,
   "outputs": [
    {
     "name": "stdout",
     "output_type": "stream",
     "text": [
      "Using device: cuda\n"
     ]
    }
   ]
  },
  {
   "metadata": {
    "ExecuteTime": {
     "end_time": "2025-10-11T08:51:22.271055Z",
     "start_time": "2025-10-11T08:51:20.811079Z"
    }
   },
   "cell_type": "code",
   "source": [
    "# model_id = \"CompVis/stable-diffusion-v1-4\"\n",
    "# pipe = StableDiffusionPipeline.from_pretrained(model_id, torch_dtype=torch.float16, cache_dir=os.environ['HF_HOME'])\n",
    "# pipe = pipe.to(device)\n",
    "#\n",
    "# vae = pipe.vae\n",
    "# tokenizer = pipe.tokenizer\n",
    "# text_encoder = pipe.text_encoder\n",
    "# unet = pipe.unet\n",
    "# scheduler = pipe.scheduler"
   ],
   "id": "6fa48fe132c793f1",
   "outputs": [
    {
     "data": {
      "text/plain": [
       "Loading pipeline components...:   0%|          | 0/7 [00:00<?, ?it/s]"
      ],
      "application/vnd.jupyter.widget-view+json": {
       "version_major": 2,
       "version_minor": 0,
       "model_id": "487bfb1d4aa44c71859950c48cc3a86e"
      }
     },
     "metadata": {},
     "output_type": "display_data",
     "jetTransient": {
      "display_id": null
     }
    }
   ],
   "execution_count": 95
  },
  {
   "metadata": {},
   "cell_type": "code",
   "outputs": [],
   "execution_count": null,
   "source": [
    "class CustomDiffusion:\n",
    "    def __init__(self, model_id: str = \"CompVis/stable-diffusion-v1-4\"):\n",
    "        self.LATENT_SCALE_FACTOR=8\n",
    "        self.BATCH_SIZE=1\n",
    "        self.HEIGHT=512\n",
    "        self.WIDTH=512\n",
    "        self.model_id: str = model_id\n",
    "\n",
    "        self.pipe: Optional[StableDiffusionPipeline] = None\n",
    "        self.vae: Optional[AutoencoderKL] = None\n",
    "        self.tokenizer: Optional[CLIPTokenizer] = None\n",
    "        self.text_encoder: Optional[CLIPTextModel] = None\n",
    "        self.unet: Optional[UNet2DConditionModel] = None\n",
    "        self.scheduler: Optional[PNDMScheduler] = None\n",
    "\n",
    "        self.__load_model()\n",
    "\n",
    "    def __load_model(self):\n",
    "        self.pipe = StableDiffusionPipeline.from_pretrained(self.model_id, torch_dtype=torch.float16, cache_dir=os.environ['HF_HOME'])\n",
    "        self.vae = self.pipe.vae\n",
    "        self.tokenizer = self.pipe.tokenizer\n",
    "        self.text_encoder = self.pipe.text_encoder\n",
    "        self.unet = self.pipe.text_encoder\n",
    "        self.scheduler = self.pipe.scheduler\n",
    "\n",
    "    def __encode_text(self, txt: str, dev=device) -> torch.Tensor:\n",
    "        with torch.no_grad():\n",
    "            tokenized = self.tokenizer(txt, return_tensors='pt', padding=\"max_length\", max_length=tokenizer.model_max_length,\n",
    "                                  truncation=True).input_ids.to(device)\n",
    "            result = text_encoder(tokenized)[0].to(device)\n",
    "            del tokenized\n",
    "        return result\n",
    "\n",
    "    def generate_text_embeddings(self, txt: str, dev=device) -> torch.Tensor:\n",
    "        return torch.cat([self.__encode_text(\"\", dev=dev), self.__encode_text(txt, dev=dev)])\n",
    "\n",
    "    def prepare_diffusion(self, seed=42):\n",
    "        latents = torch.randn(\n",
    "            (\n",
    "                self.BATCH_SIZE,\n",
    "                unet.config.in_channels,\n",
    "                self.HEIGHT // self.LATENT_SCALE_FACTOR,\n",
    "                WIDTH // self.LATENT_SCALE_FACTOR,\n",
    "            ),\n",
    "            generator=generator,\n",
    "            device=device,\n",
    "            dtype=torch.float16,\n",
    "        )\n"
   ],
   "id": "8660e2b7e230f098"
  },
  {
   "metadata": {
    "ExecuteTime": {
     "end_time": "2025-10-11T09:21:10.948262Z",
     "start_time": "2025-10-11T09:21:10.946376Z"
    }
   },
   "cell_type": "code",
   "source": [
    "latent_scale_factor=8\n",
    "batch_size=1\n",
    "hEIGHT=512\n",
    "WIDTH=512\n",
    "\n",
    "\n",
    "\n"
   ],
   "id": "3a0b3fafdb4c850a",
   "outputs": [],
   "execution_count": 112
  },
  {
   "metadata": {
    "ExecuteTime": {
     "end_time": "2025-10-11T09:18:09.123862Z",
     "start_time": "2025-10-11T09:18:09.097204Z"
    }
   },
   "cell_type": "code",
   "source": "encode_text(prompt).shape",
   "id": "5cc93bdacba27935",
   "outputs": [
    {
     "data": {
      "text/plain": [
       "torch.Size([1, 77, 768])"
      ]
     },
     "execution_count": 110,
     "metadata": {},
     "output_type": "execute_result"
    }
   ],
   "execution_count": 110
  },
  {
   "metadata": {
    "ExecuteTime": {
     "end_time": "2025-10-11T09:18:09.698944Z",
     "start_time": "2025-10-11T09:18:09.686368Z"
    }
   },
   "cell_type": "code",
   "source": "encode_text(\"\").shape",
   "id": "939245733c59dbcd",
   "outputs": [
    {
     "data": {
      "text/plain": [
       "torch.Size([1, 77, 768])"
      ]
     },
     "execution_count": 111,
     "metadata": {},
     "output_type": "execute_result"
    }
   ],
   "execution_count": 111
  },
  {
   "metadata": {
    "ExecuteTime": {
     "end_time": "2025-10-11T09:21:59.026152Z",
     "start_time": "2025-10-11T09:21:59.014032Z"
    }
   },
   "cell_type": "code",
   "source": [
    "text_embeddings = generate_text_embeddings(prompt)\n",
    "text_embeddings.shape"
   ],
   "id": "79b3f2e9e42310ab",
   "outputs": [
    {
     "data": {
      "text/plain": [
       "torch.Size([2, 77, 768])"
      ]
     },
     "execution_count": 115,
     "metadata": {},
     "output_type": "execute_result"
    }
   ],
   "execution_count": 115
  },
  {
   "metadata": {},
   "cell_type": "code",
   "outputs": [],
   "execution_count": null,
   "source": [
    "generator = torch.Generator(\"cuda\").manual_seed(50)\n",
    "image = pipe(prompt, generator=generator).images[0]\n",
    "image"
   ],
   "id": "e8219bd4ea9d56da"
  },
  {
   "metadata": {},
   "cell_type": "code",
   "outputs": [],
   "execution_count": null,
   "source": "",
   "id": "d0573f4f0acdb2d6"
  }
 ],
 "metadata": {
  "kernelspec": {
   "display_name": "Python 3",
   "language": "python",
   "name": "python3"
  },
  "language_info": {
   "codemirror_mode": {
    "name": "ipython",
    "version": 2
   },
   "file_extension": ".py",
   "mimetype": "text/x-python",
   "name": "python",
   "nbconvert_exporter": "python",
   "pygments_lexer": "ipython2",
   "version": "2.7.6"
  }
 },
 "nbformat": 4,
 "nbformat_minor": 5
}
