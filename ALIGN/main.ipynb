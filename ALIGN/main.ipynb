{
 "cells": [
  {
   "cell_type": "code",
   "execution_count": null,
   "id": "initial_id",
   "metadata": {
    "ExecuteTime": {
     "end_time": "2025-09-23T09:11:24.242366Z",
     "start_time": "2025-09-23T09:11:24.235922Z"
    },
    "collapsed": true
   },
   "outputs": [],
   "source": [
    "import os\n",
    "\n",
    "import numpy as np\n",
    "from torchview import draw_graph\n",
    "import torch\n",
    "from transformers import AlignModel, AlignProcessor\n",
    "\n",
    "os.environ[\"HF_HOME\"] = \"../.hf_home\"\n",
    "random_seed = 42\n",
    "torch.manual_seed(random_seed)\n",
    "device = \"mps\" if torch.backends.mps.is_available() else \"cuda\" if torch.cuda.is_available() else \"cpu\"\n",
    "print(f\"Using device: {device}\")"
   ]
  },
  {
   "cell_type": "code",
   "execution_count": null,
   "id": "9adbda982f245e76",
   "metadata": {
    "ExecuteTime": {
     "end_time": "2025-09-23T08:23:00.096901Z",
     "start_time": "2025-09-23T08:22:54.101745Z"
    }
   },
   "outputs": [],
   "source": [
    "model = AlignModel.from_pretrained(\"kakaobrain/align-base\", cache_dir=os.environ[\"HF_HOME\"])\n",
    "processor = AlignProcessor.from_pretrained(\"kakaobrain/align-base\", cache_dir=os.environ[\"HF_HOME\"])\n",
    "text_model = model.text_model\n",
    "vision_model = model.vision_model\n",
    "text_projection = model.text_projection"
   ]
  },
  {
   "cell_type": "code",
   "execution_count": null,
   "id": "76cbeb8e0bd8d81",
   "metadata": {
    "ExecuteTime": {
     "end_time": "2025-09-23T08:20:48.697267Z",
     "start_time": "2025-09-23T08:20:48.690400Z"
    }
   },
   "outputs": [],
   "source": [
    "_ = model.eval()\n",
    "_ = text_model.eval()\n",
    "_ = vision_model.eval()\n",
    "_ = text_projection.eval()"
   ]
  },
  {
   "cell_type": "code",
   "execution_count": null,
   "id": "26b4321850dfc4bd",
   "metadata": {
    "ExecuteTime": {
     "end_time": "2025-09-23T09:13:21.160807Z",
     "start_time": "2025-09-23T09:13:18.943703Z"
    }
   },
   "outputs": [],
   "source": [
    "graph = draw_graph(model, input_size=[(1,64), (1,3,289,289)], dtypes=[torch.long, torch.float32], expand_nested=True)\n",
    "graph.visual_graph"
   ]
  }
 ],
 "metadata": {
  "kernelspec": {
   "display_name": "aisogang",
   "language": "python",
   "name": "python3"
  },
  "language_info": {
   "codemirror_mode": {
    "name": "ipython",
    "version": 3
   },
   "file_extension": ".py",
   "mimetype": "text/x-python",
   "name": "python",
   "nbconvert_exporter": "python",
   "pygments_lexer": "ipython3",
   "version": "3.12.8"
  }
 },
 "nbformat": 4,
 "nbformat_minor": 5
}
