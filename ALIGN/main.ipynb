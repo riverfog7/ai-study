{
 "cells": [
  {
   "cell_type": "markdown",
   "id": "4c67dbd2",
   "metadata": {},
   "source": [
    "### Imports"
   ]
  },
  {
   "cell_type": "code",
   "execution_count": null,
   "id": "initial_id",
   "metadata": {
    "ExecuteTime": {
     "end_time": "2025-09-23T09:11:24.242366Z",
     "start_time": "2025-09-23T09:11:24.235922Z"
    },
    "collapsed": true
   },
   "outputs": [],
   "source": [
    "import os\n",
    "\n",
    "import numpy as np\n",
    "import pandas as pd\n",
    "import matplotlib.pyplot as plt\n",
    "import seaborn as sns\n",
    "from typing import List, Optional, Dict, Any\n",
    "from PIL import Image\n",
    "from tqdm import tqdm\n",
    "from torchview import draw_graph\n",
    "import umap\n",
    "from sklearn.manifold import TSNE\n",
    "from torch.nn.functional import cosine_similarity\n",
    "from plotly_tools import *\n",
    "from pathlib import Path\n",
    "import torch\n",
    "from transformers import AlignModel, AlignProcessor\n",
    "\n",
    "os.environ[\"HF_HOME\"] = \"../.hf_home\"\n",
    "random_seed = 42\n",
    "torch.manual_seed(random_seed)\n",
    "device = \"mps\" if torch.backends.mps.is_available() else \"cuda\" if torch.cuda.is_available() else \"cpu\"\n",
    "print(f\"Using device: {device}\")"
   ]
  },
  {
   "cell_type": "markdown",
   "id": "03a2a00a",
   "metadata": {},
   "source": [
    "### Load Model & Processor"
   ]
  },
  {
   "cell_type": "code",
   "execution_count": null,
   "id": "9adbda982f245e76",
   "metadata": {
    "ExecuteTime": {
     "end_time": "2025-09-23T08:23:00.096901Z",
     "start_time": "2025-09-23T08:22:54.101745Z"
    }
   },
   "outputs": [],
   "source": [
    "model = AlignModel.from_pretrained(\"kakaobrain/align-base\", cache_dir=os.environ[\"HF_HOME\"])\n",
    "processor = AlignProcessor.from_pretrained(\"kakaobrain/align-base\", cache_dir=os.environ[\"HF_HOME\"])\n",
    "text_model = model.text_model\n",
    "vision_model = model.vision_model\n",
    "text_projection = model.text_projection"
   ]
  },
  {
   "cell_type": "markdown",
   "id": "bf6ecbbf",
   "metadata": {},
   "source": [
    "#### Switch model to eval mode"
   ]
  },
  {
   "cell_type": "code",
   "execution_count": null,
   "id": "76cbeb8e0bd8d81",
   "metadata": {
    "ExecuteTime": {
     "end_time": "2025-09-23T08:20:48.697267Z",
     "start_time": "2025-09-23T08:20:48.690400Z"
    }
   },
   "outputs": [],
   "source": [
    "_ = model.eval()\n",
    "_ = text_model.eval()\n",
    "_ = vision_model.eval()\n",
    "_ = text_projection.eval()"
   ]
  },
  {
   "cell_type": "markdown",
   "id": "03f4c67c",
   "metadata": {},
   "source": [
    "### Model architecture exploration"
   ]
  },
  {
   "cell_type": "markdown",
   "id": "e31dea71",
   "metadata": {},
   "source": [
    "#### Image Size & Text Length"
   ]
  },
  {
   "cell_type": "code",
   "execution_count": null,
   "id": "50e4b1a8",
   "metadata": {},
   "outputs": [],
   "source": [
    "text_model.config.max_position_embeddings, processor.tokenizer.model_max_length, vision_model.config.image_size"
   ]
  },
  {
   "cell_type": "markdown",
   "id": "2549dbab",
   "metadata": {},
   "source": [
    "#### Tokenizer / Text Embedding"
   ]
  },
  {
   "cell_type": "code",
   "execution_count": null,
   "id": "da3c2d50",
   "metadata": {},
   "outputs": [],
   "source": [
    "processor.tokenizer"
   ]
  },
  {
   "cell_type": "code",
   "execution_count": null,
   "id": "8404942b",
   "metadata": {},
   "outputs": [],
   "source": [
    "target_sentence = \"a photo of a cat\"\n",
    "processor.tokenizer.tokenize(target_sentence)"
   ]
  },
  {
   "cell_type": "code",
   "execution_count": null,
   "id": "b3c2f4e6",
   "metadata": {},
   "outputs": [],
   "source": [
    "cut_len = 15\n",
    "tokenized = processor.tokenizer(target_sentence, return_tensors=\"pt\", padding=\"max_length\")\n",
    "\n",
    "print(f\"\"\"Input IDs: \\t\\t{torch.flatten(tokenized.input_ids).tolist()[:cut_len]}\n",
    "Attention Mask: \\t{torch.flatten(tokenized.attention_mask).tolist()[:cut_len]}\n",
    "Token Type IDs: \\t{torch.flatten(tokenized.token_type_ids).tolist()[:cut_len]}\n",
    "Total Length: \\t\\t{tokenized.input_ids.shape[1]}\"\"\")"
   ]
  },
  {
   "cell_type": "code",
   "execution_count": null,
   "id": "161c85db",
   "metadata": {},
   "outputs": [],
   "source": [
    "with torch.no_grad():\n",
    "    text_model_out = text_model(**tokenized)\n",
    "text_model_out.pooler_output.shape"
   ]
  },
  {
   "cell_type": "code",
   "execution_count": null,
   "id": "85ffebb6",
   "metadata": {},
   "outputs": [],
   "source": [
    "text_embedding = text_projection(text_model_out.pooler_output)\n",
    "text_embedding.shape"
   ]
  },
  {
   "cell_type": "markdown",
   "id": "ecaa73f7",
   "metadata": {},
   "source": [
    "#### Image Processing & Image Embedding"
   ]
  },
  {
   "cell_type": "code",
   "execution_count": null,
   "id": "5a01300b",
   "metadata": {},
   "outputs": [],
   "source": [
    "image = Image.open(\"sample_images/cat.jpg\").convert(\"RGB\")\n",
    "image"
   ]
  },
  {
   "cell_type": "code",
   "execution_count": null,
   "id": "a500c5f3",
   "metadata": {},
   "outputs": [],
   "source": [
    "processor.image_processor"
   ]
  },
  {
   "cell_type": "code",
   "execution_count": null,
   "id": "df12bc8f",
   "metadata": {},
   "outputs": [],
   "source": [
    "processed_image = processor.image_processor(images=image, return_tensors=\"pt\")\n",
    "display(Image.fromarray(np.uint8(processed_image.pixel_values[0].permute(1, 2, 0).numpy() * 255)))\n",
    "processed_image.pixel_values.shape"
   ]
  },
  {
   "cell_type": "code",
   "execution_count": null,
   "id": "a06b8f5a",
   "metadata": {},
   "outputs": [],
   "source": [
    "with torch.no_grad():\n",
    "    vision_model_out = vision_model(**processed_image)\n",
    "vision_embedding = vision_model_out.pooler_output\n",
    "vision_embedding.shape"
   ]
  },
  {
   "cell_type": "markdown",
   "id": "2dd3bedb",
   "metadata": {},
   "source": [
    "#### Model Pipeline Visualization"
   ]
  },
  {
   "cell_type": "code",
   "execution_count": null,
   "id": "26b4321850dfc4bd",
   "metadata": {
    "ExecuteTime": {
     "end_time": "2025-09-23T09:13:21.160807Z",
     "start_time": "2025-09-23T09:13:18.943703Z"
    }
   },
   "outputs": [],
   "source": [
    "graph = draw_graph(model, input_size=[(1,64), (1,3,289,289)], dtypes=[torch.long, torch.float32], expand_nested=True)\n",
    "graph.visual_graph"
   ]
  },
  {
   "cell_type": "markdown",
   "id": "9fa2719d",
   "metadata": {},
   "source": [
    "### Helper Functions"
   ]
  },
  {
   "cell_type": "code",
   "execution_count": null,
   "id": "c6176f50",
   "metadata": {},
   "outputs": [],
   "source": [
    "def embed_image_batch(image: List[Image.Image]) -> List[torch.Tensor]:\n",
    "    model.to(device)\n",
    "    inputs = processor(images=image, return_tensors=\"pt\", padding=\"max_length\").to(device)\n",
    "    with torch.no_grad():\n",
    "        image_embeddings = model.get_image_features(**inputs)\n",
    "    return image_embeddings.cpu().numpy().tolist()\n",
    "\n",
    "\n",
    "def embed_text_batch(text: List[str]) -> List[torch.Tensor]:\n",
    "    model.to(device)\n",
    "    inputs = processor(text=text, return_tensors=\"pt\", padding=\"max_length\").to(device)\n",
    "    with torch.no_grad():\n",
    "        text_embeddings = model.get_text_features(**inputs)\n",
    "    return text_embeddings.cpu().numpy().tolist()\n",
    "\n",
    "def load_images(paths: List[Path]) -> List[Image.Image]:\n",
    "    images = []\n",
    "    for path in paths:\n",
    "        try:\n",
    "            img = Image.open(path).convert(\"RGB\")\n",
    "            images.append(img)\n",
    "        except Exception as e:\n",
    "            print(f\"Error loading image {path}: {e}\")\n",
    "    return images\n",
    "\n",
    "def normalize_embeddings(embeddings: np.ndarray) -> np.ndarray:\n",
    "    norms = np.linalg.norm(embeddings, axis=1, keepdims=True)\n",
    "    return embeddings / norms"
   ]
  },
  {
   "cell_type": "markdown",
   "id": "4e14084a",
   "metadata": {},
   "source": [
    "### Run Inference on Custom Images and Captions"
   ]
  },
  {
   "cell_type": "code",
   "execution_count": null,
   "id": "fa50b022",
   "metadata": {},
   "outputs": [],
   "source": [
    "inference_needed = not os.path.exists(\"./processed_data.parquet\")\n",
    "print(f\"Running inference: {inference_needed}\")"
   ]
  },
  {
   "cell_type": "code",
   "execution_count": null,
   "id": "2eca698b",
   "metadata": {},
   "outputs": [],
   "source": [
    "images_dir = \"sample_images\"\n",
    "if inference_needed:\n",
    "    df_lst = []\n",
    "    for directory in os.listdir(images_dir):\n",
    "        if not os.path.isdir(os.path.join(images_dir, directory)):\n",
    "            continue\n",
    "\n",
    "        img_cls = directory\n",
    "        rel_path = os.path.join(images_dir, directory)\n",
    "\n",
    "        img_paths = [os.path.join(rel_path, img_name) for img_name in os.listdir(rel_path) if not '.' in img_name]\n",
    "        img_paths.sort()\n",
    "\n",
    "        df_lst.append(pd.DataFrame({\n",
    "            \"image_path\": img_paths,\n",
    "            \"class\": [img_cls] * len(img_paths),\n",
    "            \"image_embedding\": [None] * len(img_paths),\n",
    "            \"text_embedding\": [None] * len(img_paths),\n",
    "        }))\n",
    "\n",
    "    df_embeddings = pd.concat(df_lst, ignore_index=True)\n",
    "    del df_lst"
   ]
  },
  {
   "cell_type": "code",
   "execution_count": null,
   "id": "eaf8ecfe",
   "metadata": {},
   "outputs": [],
   "source": [
    "batch_size = 128\n",
    "if inference_needed:\n",
    "    unique_class = df_embeddings['class'].unique().tolist()\n",
    "    class_embedding_mapping = {v: e for v, e in zip(unique_class, embed_text_batch(unique_class))}\n",
    "    df_embeddings['text_embedding'] = df_embeddings['class'].map(class_embedding_mapping)\n",
    "\n",
    "    img_embeddings = []\n",
    "    for i in tqdm(range(0, len(df_embeddings), batch_size)):\n",
    "        batch_df = df_embeddings.iloc[i:i+batch_size]\n",
    "        batch_images = load_images(batch_df['image_path'].tolist())\n",
    "        batch_embeddings = embed_image_batch(batch_images)\n",
    "        img_embeddings.extend(batch_embeddings)\n",
    "        del batch_images, batch_embeddings, batch_df\n",
    "        torch.mps.empty_cache()\n",
    "    df_embeddings['image_embedding'] = img_embeddings\n",
    "    del img_embeddings"
   ]
  },
  {
   "cell_type": "markdown",
   "id": "a75a2bfb",
   "metadata": {},
   "source": [
    "### Save / Load Embeddings"
   ]
  },
  {
   "cell_type": "code",
   "execution_count": null,
   "id": "75063bca",
   "metadata": {},
   "outputs": [],
   "source": [
    "if inference_needed:\n",
    "    df_embeddings.to_parquet(\"processed_data.parquet\", index=False, compression=\"brotli\", engine=\"fastparquet\")\n",
    "else:\n",
    "    df_embeddings = pd.read_parquet(\"processed_data.parquet\", engine=\"fastparquet\", index=False)"
   ]
  },
  {
   "cell_type": "markdown",
   "id": "797bb40a",
   "metadata": {},
   "source": [
    "### Visualize Embeddings"
   ]
  },
  {
   "cell_type": "markdown",
   "id": "e591ac20",
   "metadata": {},
   "source": [
    "#### Get Image"
   ]
  },
  {
   "cell_type": "code",
   "execution_count": null,
   "id": "4621aac6",
   "metadata": {},
   "outputs": [],
   "source": [
    "df_embeddings['image'] = df_embeddings['image_path'].apply(lambda x: Image.open(x).convert(\"RGB\"))"
   ]
  },
  {
   "cell_type": "markdown",
   "id": "84fd16ff",
   "metadata": {},
   "source": [
    "#### Normalize Embeddings"
   ]
  },
  {
   "cell_type": "code",
   "execution_count": null,
   "id": "30fc1390",
   "metadata": {},
   "outputs": [],
   "source": [
    "df_embeddings['image_embedding_normalized'] = normalize_embeddings(np.asarray(df_embeddings['image_embedding'].tolist())).tolist()\n",
    "df_embeddings['text_embedding_normalized'] = normalize_embeddings(np.asarray(df_embeddings['text_embedding'].tolist())).tolist()\n",
    "df_embeddings.head()"
   ]
  },
  {
   "cell_type": "markdown",
   "id": "033c9224",
   "metadata": {},
   "source": [
    "#### Compute Dimensionality Reduction"
   ]
  },
  {
   "cell_type": "markdown",
   "id": "37d6ea83",
   "metadata": {},
   "source": [
    "##### t-SNE"
   ]
  },
  {
   "cell_type": "code",
   "execution_count": null,
   "id": "28960f4b",
   "metadata": {},
   "outputs": [],
   "source": [
    "tnse = TSNE(n_components=3, random_state=random_seed, init='random', learning_rate='auto', perplexity=5)\n",
    "results = tnse.fit_transform(np.asarray(df_embeddings['image_embedding_normalized'].tolist() + df_embeddings['text_embedding_normalized'].tolist()))\n",
    "\n",
    "img_proj = results[:len(df_embeddings['image_embedding_normalized'])]\n",
    "txt_proj = results[len(df_embeddings['image_embedding_normalized']):]\n",
    "\n",
    "df_embeddings['tnse-image-3d'] = list(img_proj)\n",
    "df_embeddings['tnse-text-3d'] = list(txt_proj)\n",
    "\n",
    "df_embeddings['tnse-image-3d-x'] = df_embeddings['tnse-image-3d'].apply(lambda x: x[0])\n",
    "df_embeddings['tnse-image-3d-y'] = df_embeddings['tnse-image-3d'].apply(lambda x: x[1])\n",
    "df_embeddings['tnse-image-3d-z'] = df_embeddings['tnse-image-3d'].apply(lambda x: x[2])\n",
    "\n",
    "df_embeddings['tnse-text-3d-x'] = df_embeddings['tnse-text-3d'].apply(lambda x: x[0])\n",
    "df_embeddings['tnse-text-3d-y'] = df_embeddings['tnse-text-3d'].apply(lambda x: x[1])\n",
    "df_embeddings['tnse-text-3d-z'] = df_embeddings['tnse-text-3d'].apply(lambda x: x[2])"
   ]
  },
  {
   "cell_type": "markdown",
   "id": "b6a6873a",
   "metadata": {},
   "source": [
    "##### UMAP"
   ]
  },
  {
   "cell_type": "code",
   "execution_count": null,
   "id": "ec9fbb10",
   "metadata": {},
   "outputs": [],
   "source": [
    "umap = umap.UMAP(n_neighbors=5, min_dist=0.3, n_components=3, random_state=random_seed)\n",
    "\n",
    "results = umap.fit_transform(np.asarray(df_embeddings['image_embedding_normalized'].tolist() + df_embeddings['text_embedding_normalized'].tolist()))\n",
    "\n",
    "img_proj = results[:len(df_embeddings['image_embedding_normalized'])]\n",
    "txt_proj = results[len(df_embeddings['image_embedding_normalized']):]\n",
    "\n",
    "df_embeddings['umap-image-3d'] = list(img_proj)\n",
    "df_embeddings['umap-text-3d'] = list(txt_proj)\n",
    "\n",
    "df_embeddings['umap-image-3d-x'] = df_embeddings['umap-image-3d'].apply(lambda x: x[0])\n",
    "df_embeddings['umap-image-3d-y'] = df_embeddings['umap-image-3d'].apply(lambda x: x[1])\n",
    "df_embeddings['umap-image-3d-z'] = df_embeddings['umap-image-3d'].apply(lambda x: x[2])\n",
    "\n",
    "df_embeddings['umap-text-3d-x'] = df_embeddings['umap-text-3d'].apply(lambda x: x[0])\n",
    "df_embeddings['umap-text-3d-y'] = df_embeddings['umap-text-3d'].apply(lambda x: x[1])\n",
    "df_embeddings['umap-text-3d-z'] = df_embeddings['umap-text-3d'].apply(lambda x: x[2])"
   ]
  },
  {
   "cell_type": "markdown",
   "id": "1440d49e",
   "metadata": {},
   "source": [
    "#### Visualization"
   ]
  },
  {
   "cell_type": "markdown",
   "id": "35d24cf9",
   "metadata": {},
   "source": [
    "##### t-SNE"
   ]
  },
  {
   "cell_type": "code",
   "execution_count": null,
   "id": "417727ae",
   "metadata": {},
   "outputs": [],
   "source": [
    "save_3d_hover_images_html(\n",
    "    \"embeddings_tsne.html\",\n",
    "    df_embeddings['tnse-image-3d'].tolist(),\n",
    "    df_embeddings['tnse-text-3d'].tolist(),\n",
    "    df_embeddings['image'].tolist(),\n",
    "    df_embeddings['class'].tolist(),\n",
    "    df_embeddings['class'].tolist(),\n",
    ")"
   ]
  },
  {
   "cell_type": "markdown",
   "id": "9a24116e",
   "metadata": {},
   "source": [
    "##### UMAP"
   ]
  },
  {
   "cell_type": "code",
   "execution_count": null,
   "id": "777324ee",
   "metadata": {},
   "outputs": [],
   "source": [
    "save_3d_hover_images_html(\n",
    "    \"embeddings_umap.html\",\n",
    "    df_embeddings['umap-image-3d'].tolist(),\n",
    "    df_embeddings['umap-text-3d'].tolist(),\n",
    "    df_embeddings['image'].tolist(),\n",
    "    df_embeddings['class'].tolist(),\n",
    "    df_embeddings['class'].tolist(),\n",
    ")"
   ]
  }
 ],
 "metadata": {
  "kernelspec": {
   "display_name": "aisogang",
   "language": "python",
   "name": "python3"
  },
  "language_info": {
   "codemirror_mode": {
    "name": "ipython",
    "version": 3
   },
   "file_extension": ".py",
   "mimetype": "text/x-python",
   "name": "python",
   "nbconvert_exporter": "python",
   "pygments_lexer": "ipython3",
   "version": "3.12.8"
  }
 },
 "nbformat": 4,
 "nbformat_minor": 5
}
